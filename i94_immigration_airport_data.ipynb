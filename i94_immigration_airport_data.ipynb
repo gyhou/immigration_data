{
 "cells": [
  {
   "cell_type": "markdown",
   "metadata": {
    "editable": true
   },
   "source": [
    "# Immigration & Airport Data\n",
    "\n",
    "## Project Summary\n",
    "**Aggregate the immigration data by airport in order to find out the relationship between the number of immigrants and the airports.**\n",
    "\n",
    "The project follows the follow steps:\n",
    "* Step 1: Scope the Project and Gather Data\n",
    "* Step 2: Explore and Assess the Data\n",
    "* Step 3: Define the Data Model\n",
    "* Step 4: Run ETL to Model the Data\n",
    "* Step 5: Complete Project Write Up"
   ]
  },
  {
   "cell_type": "code",
   "execution_count": 1,
   "metadata": {
    "editable": true
   },
   "outputs": [],
   "source": [
    "import os\n",
    "import numpy as np\n",
    "import pandas as pd\n",
    "import configparser\n",
    "\n",
    "# aquire key to access AWS S3\n",
    "config = configparser.ConfigParser()\n",
    "config.read('dl.cfg')\n",
    "\n",
    "os.environ['AWS_ACCESS_KEY_ID']=config['KEY']['AWS_ACCESS_KEY_ID']\n",
    "os.environ['AWS_SECRET_ACCESS_KEY']=config['KEY']['AWS_SECRET_ACCESS_KEY']\n",
    "os.environ['AWS_DEFAULT_REGION']=config['KEY']['AWS_DEFAULT_REGION']\n",
    "\n",
    "# pd.set_option('display.max_rows', 500)\n",
    "pd.set_option('display.max_columns', 500)"
   ]
  },
  {
   "cell_type": "markdown",
   "metadata": {
    "editable": true
   },
   "source": [
    "## Step 1: Scope of project and Data Source\n",
    "\n",
    "### Scope \n",
    "- Aggregate the immigration data by airport in order to find out the relationship between the number of immigrants and the airports.\n",
    "\n",
    "### Data Source\n",
    "1. (New) Airport codes data downloaded from https://datahub.io/core/airport-codes\n",
    "    - 6 different types of airports\n",
    "    - Location for each type of airport in the area\n",
    "1. Immigration data from i94 https://travel.trade.gov/research/reports/i94/historical/2016.html\n",
    "    - 12 files for each month, each with around 3 million rows\n",
    "    - Contains each immigrant entry port and basic information\n",
    "\n",
    "### Solution\n",
    "- Solution will be aggregated data partitioned by year and month the total immigrants and number of airports in each city.\n",
    "\n",
    "### Technical Tools\n",
    "- Jupyter Notebook (Python): Test code to read/process airport/immigration files and read/write parquet files using PySpark\n",
    "- Spark: PySpark was used to read and process the data (each month of immigration data has ~3 million rows)\n",
    "  - Saving the files in S3 by partitioning the parquet files allows for faster processing speed\n",
    "- AWS: Used S3 to store and save data, easily scalable"
   ]
  },
  {
   "cell_type": "markdown",
   "metadata": {
    "editable": true
   },
   "source": [
    "#### Discarded Data\n",
    "\n",
    "- US Cities Demographics: https://public.opendatasoft.com/explore/dataset/us-cities-demographics/information/\n",
    "    - 2015 data - Doesn't have over a million data, year doesn't match with the immigration 2016 data\n",
    "- Temperature by City: https://www.kaggle.com/berkeleyearth/climate-change-earth-surface-temperature-data\n",
    "   - 1743~2013 data - doesn't match with the immigration 2016 data"
   ]
  },
  {
   "cell_type": "code",
   "execution_count": 3,
   "metadata": {
    "editable": true
   },
   "outputs": [
    {
     "name": "stdout",
     "output_type": "stream",
     "text": [
      "(55075, 12)\n"
     ]
    }
   ],
   "source": [
    "# Old data\n",
    "airport_df = pd.read_csv('airport-codes_csv.csv')\n",
    "print(airport_df.shape)"
   ]
  },
  {
   "cell_type": "code",
   "execution_count": 17,
   "metadata": {
    "collapsed": true,
    "editable": true,
    "jupyter": {
     "outputs_hidden": true
    }
   },
   "outputs": [
    {
     "name": "stdout",
     "output_type": "stream",
     "text": [
      "--2020-04-22 21:57:34--  http://ourairports.com/data/airports.csv\n",
      "Resolving ourairports.com (ourairports.com)... 206.71.179.167\n",
      "Connecting to ourairports.com (ourairports.com)|206.71.179.167|:80... connected.\n",
      "HTTP request sent, awaiting response... 301 Moved Permanently\n",
      "Location: https://ourairports.com/data/airports.csv [following]\n",
      "--2020-04-22 21:57:34--  https://ourairports.com/data/airports.csv\n",
      "Connecting to ourairports.com (ourairports.com)|206.71.179.167|:443... connected.\n",
      "HTTP request sent, awaiting response... 200 OK\n",
      "Length: 8470475 (8.1M) [text/csv]\n",
      "Saving to: ‘airports.csv’\n",
      "\n",
      "airports.csv        100%[===================>]   8.08M  12.3MB/s    in 0.7s    \n",
      "\n",
      "2020-04-22 21:57:35 (12.3 MB/s) - ‘airports.csv’ saved [8470475/8470475]\n",
      "\n"
     ]
    }
   ],
   "source": [
    "# Download updated airport data on datahub.io\n",
    "!wget http://ourairports.com/data/airports.csv"
   ]
  },
  {
   "cell_type": "code",
   "execution_count": 20,
   "metadata": {
    "editable": true
   },
   "outputs": [
    {
     "name": "stdout",
     "output_type": "stream",
     "text": [
      "(56154, 18)\n"
     ]
    },
    {
     "data": {
      "text/plain": [
       "id                       0\n",
       "ident                    0\n",
       "type                     0\n",
       "name                     0\n",
       "latitude_deg             0\n",
       "longitude_deg            0\n",
       "elevation_ft          7239\n",
       "continent            28082\n",
       "iso_country            246\n",
       "iso_region               0\n",
       "municipality          5801\n",
       "scheduled_service        0\n",
       "gps_code             15081\n",
       "iata_code            46919\n",
       "local_code           27024\n",
       "home_link            53089\n",
       "wikipedia_link       46143\n",
       "keywords             46099\n",
       "dtype: int64"
      ]
     },
     "execution_count": 20,
     "metadata": {},
     "output_type": "execute_result"
    }
   ],
   "source": [
    "# 1079 more rows than old data\n",
    "airports_csv = pd.read_csv('airports.csv')\n",
    "print(airports_csv.shape)\n",
    "airports_csv.isnull().sum()"
   ]
  },
  {
   "cell_type": "markdown",
   "metadata": {
    "editable": true
   },
   "source": [
    "#### Save new airport code data to S3"
   ]
  },
  {
   "cell_type": "code",
   "execution_count": 19,
   "metadata": {
    "editable": true
   },
   "outputs": [],
   "source": [
    "# Load updated raw data into S3\n",
    "output = 's3a://immigration-airport-data/airport'\n",
    "airport_spark = spark.read.format('csv').options(header='true', inferSchema='true').load('airports.csv')\n",
    "airport_spark.write.parquet(output, mode='overwrite')"
   ]
  },
  {
   "cell_type": "code",
   "execution_count": 21,
   "metadata": {
    "editable": true
   },
   "outputs": [
    {
     "name": "stdout",
     "output_type": "stream",
     "text": [
      "(3096313, 28)\n"
     ]
    },
    {
     "data": {
      "text/html": [
       "<div>\n",
       "<style scoped>\n",
       "    .dataframe tbody tr th:only-of-type {\n",
       "        vertical-align: middle;\n",
       "    }\n",
       "\n",
       "    .dataframe tbody tr th {\n",
       "        vertical-align: top;\n",
       "    }\n",
       "\n",
       "    .dataframe thead th {\n",
       "        text-align: right;\n",
       "    }\n",
       "</style>\n",
       "<table border=\"1\" class=\"dataframe\">\n",
       "  <thead>\n",
       "    <tr style=\"text-align: right;\">\n",
       "      <th></th>\n",
       "      <th>cicid</th>\n",
       "      <th>i94yr</th>\n",
       "      <th>i94mon</th>\n",
       "      <th>i94cit</th>\n",
       "      <th>i94res</th>\n",
       "      <th>i94port</th>\n",
       "      <th>arrdate</th>\n",
       "      <th>i94mode</th>\n",
       "      <th>i94addr</th>\n",
       "      <th>depdate</th>\n",
       "      <th>i94bir</th>\n",
       "      <th>i94visa</th>\n",
       "      <th>count</th>\n",
       "      <th>dtadfile</th>\n",
       "      <th>visapost</th>\n",
       "      <th>occup</th>\n",
       "      <th>entdepa</th>\n",
       "      <th>entdepd</th>\n",
       "      <th>entdepu</th>\n",
       "      <th>matflag</th>\n",
       "      <th>biryear</th>\n",
       "      <th>dtaddto</th>\n",
       "      <th>gender</th>\n",
       "      <th>insnum</th>\n",
       "      <th>airline</th>\n",
       "      <th>admnum</th>\n",
       "      <th>fltno</th>\n",
       "      <th>visatype</th>\n",
       "    </tr>\n",
       "  </thead>\n",
       "  <tbody>\n",
       "    <tr>\n",
       "      <th>0</th>\n",
       "      <td>6.0</td>\n",
       "      <td>2016.0</td>\n",
       "      <td>4.0</td>\n",
       "      <td>692.0</td>\n",
       "      <td>692.0</td>\n",
       "      <td>XXX</td>\n",
       "      <td>20573.0</td>\n",
       "      <td>NaN</td>\n",
       "      <td>NaN</td>\n",
       "      <td>NaN</td>\n",
       "      <td>37.0</td>\n",
       "      <td>2.0</td>\n",
       "      <td>1.0</td>\n",
       "      <td>NaN</td>\n",
       "      <td>NaN</td>\n",
       "      <td>NaN</td>\n",
       "      <td>T</td>\n",
       "      <td>NaN</td>\n",
       "      <td>U</td>\n",
       "      <td>NaN</td>\n",
       "      <td>1979.0</td>\n",
       "      <td>10282016</td>\n",
       "      <td>NaN</td>\n",
       "      <td>NaN</td>\n",
       "      <td>NaN</td>\n",
       "      <td>1.897628e+09</td>\n",
       "      <td>NaN</td>\n",
       "      <td>B2</td>\n",
       "    </tr>\n",
       "    <tr>\n",
       "      <th>1</th>\n",
       "      <td>7.0</td>\n",
       "      <td>2016.0</td>\n",
       "      <td>4.0</td>\n",
       "      <td>254.0</td>\n",
       "      <td>276.0</td>\n",
       "      <td>ATL</td>\n",
       "      <td>20551.0</td>\n",
       "      <td>1.0</td>\n",
       "      <td>AL</td>\n",
       "      <td>NaN</td>\n",
       "      <td>25.0</td>\n",
       "      <td>3.0</td>\n",
       "      <td>1.0</td>\n",
       "      <td>20130811</td>\n",
       "      <td>SEO</td>\n",
       "      <td>NaN</td>\n",
       "      <td>G</td>\n",
       "      <td>NaN</td>\n",
       "      <td>Y</td>\n",
       "      <td>NaN</td>\n",
       "      <td>1991.0</td>\n",
       "      <td>D/S</td>\n",
       "      <td>M</td>\n",
       "      <td>NaN</td>\n",
       "      <td>NaN</td>\n",
       "      <td>3.736796e+09</td>\n",
       "      <td>00296</td>\n",
       "      <td>F1</td>\n",
       "    </tr>\n",
       "    <tr>\n",
       "      <th>2</th>\n",
       "      <td>15.0</td>\n",
       "      <td>2016.0</td>\n",
       "      <td>4.0</td>\n",
       "      <td>101.0</td>\n",
       "      <td>101.0</td>\n",
       "      <td>WAS</td>\n",
       "      <td>20545.0</td>\n",
       "      <td>1.0</td>\n",
       "      <td>MI</td>\n",
       "      <td>20691.0</td>\n",
       "      <td>55.0</td>\n",
       "      <td>2.0</td>\n",
       "      <td>1.0</td>\n",
       "      <td>20160401</td>\n",
       "      <td>NaN</td>\n",
       "      <td>NaN</td>\n",
       "      <td>T</td>\n",
       "      <td>O</td>\n",
       "      <td>NaN</td>\n",
       "      <td>M</td>\n",
       "      <td>1961.0</td>\n",
       "      <td>09302016</td>\n",
       "      <td>M</td>\n",
       "      <td>NaN</td>\n",
       "      <td>OS</td>\n",
       "      <td>6.666432e+08</td>\n",
       "      <td>93</td>\n",
       "      <td>B2</td>\n",
       "    </tr>\n",
       "    <tr>\n",
       "      <th>3</th>\n",
       "      <td>16.0</td>\n",
       "      <td>2016.0</td>\n",
       "      <td>4.0</td>\n",
       "      <td>101.0</td>\n",
       "      <td>101.0</td>\n",
       "      <td>NYC</td>\n",
       "      <td>20545.0</td>\n",
       "      <td>1.0</td>\n",
       "      <td>MA</td>\n",
       "      <td>20567.0</td>\n",
       "      <td>28.0</td>\n",
       "      <td>2.0</td>\n",
       "      <td>1.0</td>\n",
       "      <td>20160401</td>\n",
       "      <td>NaN</td>\n",
       "      <td>NaN</td>\n",
       "      <td>O</td>\n",
       "      <td>O</td>\n",
       "      <td>NaN</td>\n",
       "      <td>M</td>\n",
       "      <td>1988.0</td>\n",
       "      <td>09302016</td>\n",
       "      <td>NaN</td>\n",
       "      <td>NaN</td>\n",
       "      <td>AA</td>\n",
       "      <td>9.246846e+10</td>\n",
       "      <td>00199</td>\n",
       "      <td>B2</td>\n",
       "    </tr>\n",
       "    <tr>\n",
       "      <th>4</th>\n",
       "      <td>17.0</td>\n",
       "      <td>2016.0</td>\n",
       "      <td>4.0</td>\n",
       "      <td>101.0</td>\n",
       "      <td>101.0</td>\n",
       "      <td>NYC</td>\n",
       "      <td>20545.0</td>\n",
       "      <td>1.0</td>\n",
       "      <td>MA</td>\n",
       "      <td>20567.0</td>\n",
       "      <td>4.0</td>\n",
       "      <td>2.0</td>\n",
       "      <td>1.0</td>\n",
       "      <td>20160401</td>\n",
       "      <td>NaN</td>\n",
       "      <td>NaN</td>\n",
       "      <td>O</td>\n",
       "      <td>O</td>\n",
       "      <td>NaN</td>\n",
       "      <td>M</td>\n",
       "      <td>2012.0</td>\n",
       "      <td>09302016</td>\n",
       "      <td>NaN</td>\n",
       "      <td>NaN</td>\n",
       "      <td>AA</td>\n",
       "      <td>9.246846e+10</td>\n",
       "      <td>00199</td>\n",
       "      <td>B2</td>\n",
       "    </tr>\n",
       "  </tbody>\n",
       "</table>\n",
       "</div>"
      ],
      "text/plain": [
       "   cicid   i94yr  i94mon  i94cit  i94res i94port  arrdate  i94mode i94addr  \\\n",
       "0    6.0  2016.0     4.0   692.0   692.0     XXX  20573.0      NaN     NaN   \n",
       "1    7.0  2016.0     4.0   254.0   276.0     ATL  20551.0      1.0      AL   \n",
       "2   15.0  2016.0     4.0   101.0   101.0     WAS  20545.0      1.0      MI   \n",
       "3   16.0  2016.0     4.0   101.0   101.0     NYC  20545.0      1.0      MA   \n",
       "4   17.0  2016.0     4.0   101.0   101.0     NYC  20545.0      1.0      MA   \n",
       "\n",
       "   depdate  i94bir  i94visa  count  dtadfile visapost occup entdepa entdepd  \\\n",
       "0      NaN    37.0      2.0    1.0       NaN      NaN   NaN       T     NaN   \n",
       "1      NaN    25.0      3.0    1.0  20130811      SEO   NaN       G     NaN   \n",
       "2  20691.0    55.0      2.0    1.0  20160401      NaN   NaN       T       O   \n",
       "3  20567.0    28.0      2.0    1.0  20160401      NaN   NaN       O       O   \n",
       "4  20567.0     4.0      2.0    1.0  20160401      NaN   NaN       O       O   \n",
       "\n",
       "  entdepu matflag  biryear   dtaddto gender insnum airline        admnum  \\\n",
       "0       U     NaN   1979.0  10282016    NaN    NaN     NaN  1.897628e+09   \n",
       "1       Y     NaN   1991.0       D/S      M    NaN     NaN  3.736796e+09   \n",
       "2     NaN       M   1961.0  09302016      M    NaN      OS  6.666432e+08   \n",
       "3     NaN       M   1988.0  09302016    NaN    NaN      AA  9.246846e+10   \n",
       "4     NaN       M   2012.0  09302016    NaN    NaN      AA  9.246846e+10   \n",
       "\n",
       "   fltno visatype  \n",
       "0    NaN       B2  \n",
       "1  00296       F1  \n",
       "2     93       B2  \n",
       "3  00199       B2  \n",
       "4  00199       B2  "
      ]
     },
     "execution_count": 21,
     "metadata": {},
     "output_type": "execute_result"
    }
   ],
   "source": [
    "# April 2016 immigration data\n",
    "fname = '../../data/18-83510-I94-Data-2016/i94_apr16_sub.sas7bdat'\n",
    "i94_df = pd.read_sas(fname, 'sas7bdat', encoding=\"ISO-8859-1\")\n",
    "# temp_dropna = temp_df.dropna()\n",
    "print(i94_df.shape)\n",
    "i94_df.head()"
   ]
  },
  {
   "cell_type": "code",
   "execution_count": 33,
   "metadata": {
    "editable": true
   },
   "outputs": [
    {
     "data": {
      "text/plain": [
       "cicid             0\n",
       "i94yr             0\n",
       "i94mon            0\n",
       "i94cit            0\n",
       "i94res            0\n",
       "i94port           0\n",
       "arrdate           0\n",
       "i94mode         239\n",
       "i94addr      152372\n",
       "depdate      142457\n",
       "i94bir          802\n",
       "i94visa           0\n",
       "count             0\n",
       "dtadfile          1\n",
       "visapost    1881250\n",
       "occup       3088187\n",
       "entdepa         238\n",
       "entdepd      138429\n",
       "entdepu     3095921\n",
       "matflag      138429\n",
       "biryear         802\n",
       "dtaddto         477\n",
       "gender       414269\n",
       "insnum      2982605\n",
       "airline       83627\n",
       "admnum            0\n",
       "fltno         19549\n",
       "visatype          0\n",
       "dtype: int64"
      ]
     },
     "execution_count": 33,
     "metadata": {},
     "output_type": "execute_result"
    }
   ],
   "source": [
    "# year, month, city, res, port - No NULL values\n",
    "i94_df.isnull().sum()"
   ]
  },
  {
   "cell_type": "code",
   "execution_count": null,
   "metadata": {
    "editable": true
   },
   "outputs": [],
   "source": [
    "i94_df['i94port'].value_counts().to_dict()"
   ]
  },
  {
   "cell_type": "markdown",
   "metadata": {
    "editable": true
   },
   "source": [
    "### Immigration Data\n",
    "- Save all 12 raw files into S3 as parquet using PySpark"
   ]
  },
  {
   "cell_type": "code",
   "execution_count": 3,
   "metadata": {
    "editable": true
   },
   "outputs": [],
   "source": [
    "import os\n",
    "import glob\n",
    "# Create a for loop to create a list of files and collect each filepath\n",
    "for root, dirs, files in os.walk('../../data/'):\n",
    "    # join the file path and roots with the subdirectories using glob\n",
    "    file_path_list = glob.glob(os.path.join(root,'*'))\n",
    "print(file_path_list)"
   ]
  },
  {
   "cell_type": "code",
   "execution_count": 2,
   "metadata": {
    "editable": true
   },
   "outputs": [],
   "source": [
    "from pyspark.sql import SparkSession\n",
    "from pyspark.sql.types import IntegerType, StringType\n",
    "from pyspark.sql.functions import isnan, when, count, col, udf, split, upper\n",
    "\n",
    "spark = SparkSession.builder.\\\n",
    "        config(\"spark.jars.packages\",\"saurfang:spark-sas7bdat:2.0.0-s_2.11,org.apache.hadoop:hadoop-aws:2.7.2\")\\\n",
    "        .enableHiveSupport().getOrCreate()"
   ]
  },
  {
   "cell_type": "code",
   "execution_count": null,
   "metadata": {
    "editable": true
   },
   "outputs": [],
   "source": [
    "# Upload raw immigration data to S3\n",
    "output = 's3a://immigration-airport-data/immigration'\n",
    "for file in file_path_list[:-1]:\n",
    "    df = spark.read.format('com.github.saurfang.sas.spark').load(file)\n",
    "    df = df.withColumn(\"year\", col(\"i94yr\").cast(IntegerType()))\n",
    "    df = df.withColumn(\"month\", col(\"i94mon\").cast(IntegerType()))\n",
    "    print(f'Loading {file} to {output}')\n",
    "    df.write.partitionBy('year', 'month').parquet(output, mode='append')"
   ]
  },
  {
   "cell_type": "markdown",
   "metadata": {
    "editable": true
   },
   "source": [
    "## Step 2: Explore and Assess the Data\n",
    "### Explore the Data \n",
    "- Aggregate airport types by city\n",
    "- Aggregate immigrants by port"
   ]
  },
  {
   "cell_type": "markdown",
   "metadata": {
    "editable": true
   },
   "source": [
    "## Airport Data\n",
    "### Clean data\n",
    "- Remove Null values from column municipality\n",
    "### Feature Engineer\n",
    "- Split the region columns to show both country and state separately"
   ]
  },
  {
   "cell_type": "code",
   "execution_count": 65,
   "metadata": {
    "editable": true
   },
   "outputs": [
    {
     "name": "stdout",
     "output_type": "stream",
     "text": [
      "50353\n"
     ]
    },
    {
     "data": {
      "text/html": [
       "<div>\n",
       "<style scoped>\n",
       "    .dataframe tbody tr th:only-of-type {\n",
       "        vertical-align: middle;\n",
       "    }\n",
       "\n",
       "    .dataframe tbody tr th {\n",
       "        vertical-align: top;\n",
       "    }\n",
       "\n",
       "    .dataframe thead th {\n",
       "        text-align: right;\n",
       "    }\n",
       "</style>\n",
       "<table border=\"1\" class=\"dataframe\">\n",
       "  <thead>\n",
       "    <tr style=\"text-align: right;\">\n",
       "      <th></th>\n",
       "      <th>id</th>\n",
       "      <th>ident</th>\n",
       "      <th>type</th>\n",
       "      <th>name</th>\n",
       "      <th>latitude_deg</th>\n",
       "      <th>longitude_deg</th>\n",
       "      <th>elevation_ft</th>\n",
       "      <th>continent</th>\n",
       "      <th>iso_country</th>\n",
       "      <th>iso_region</th>\n",
       "      <th>municipality</th>\n",
       "      <th>scheduled_service</th>\n",
       "      <th>gps_code</th>\n",
       "      <th>iata_code</th>\n",
       "      <th>local_code</th>\n",
       "      <th>home_link</th>\n",
       "      <th>wikipedia_link</th>\n",
       "      <th>keywords</th>\n",
       "      <th>country</th>\n",
       "      <th>state</th>\n",
       "    </tr>\n",
       "  </thead>\n",
       "  <tbody>\n",
       "    <tr>\n",
       "      <th>0</th>\n",
       "      <td>6523</td>\n",
       "      <td>00A</td>\n",
       "      <td>heliport</td>\n",
       "      <td>Total Rf Heliport</td>\n",
       "      <td>40.070801</td>\n",
       "      <td>-74.933601</td>\n",
       "      <td>11</td>\n",
       "      <td>NA</td>\n",
       "      <td>US</td>\n",
       "      <td>US-PA</td>\n",
       "      <td>BENSALEM</td>\n",
       "      <td>no</td>\n",
       "      <td>00A</td>\n",
       "      <td>None</td>\n",
       "      <td>00A</td>\n",
       "      <td>None</td>\n",
       "      <td>None</td>\n",
       "      <td>None</td>\n",
       "      <td>US</td>\n",
       "      <td>PA</td>\n",
       "    </tr>\n",
       "    <tr>\n",
       "      <th>1</th>\n",
       "      <td>323361</td>\n",
       "      <td>00AA</td>\n",
       "      <td>small_airport</td>\n",
       "      <td>Aero B Ranch Airport</td>\n",
       "      <td>38.704022</td>\n",
       "      <td>-101.473911</td>\n",
       "      <td>3435</td>\n",
       "      <td>NA</td>\n",
       "      <td>US</td>\n",
       "      <td>US-KS</td>\n",
       "      <td>LEOTI</td>\n",
       "      <td>no</td>\n",
       "      <td>00AA</td>\n",
       "      <td>None</td>\n",
       "      <td>00AA</td>\n",
       "      <td>None</td>\n",
       "      <td>None</td>\n",
       "      <td>None</td>\n",
       "      <td>US</td>\n",
       "      <td>KS</td>\n",
       "    </tr>\n",
       "    <tr>\n",
       "      <th>2</th>\n",
       "      <td>6524</td>\n",
       "      <td>00AK</td>\n",
       "      <td>small_airport</td>\n",
       "      <td>Lowell Field</td>\n",
       "      <td>59.949200</td>\n",
       "      <td>-151.695999</td>\n",
       "      <td>450</td>\n",
       "      <td>NA</td>\n",
       "      <td>US</td>\n",
       "      <td>US-AK</td>\n",
       "      <td>ANCHOR POINT</td>\n",
       "      <td>no</td>\n",
       "      <td>00AK</td>\n",
       "      <td>None</td>\n",
       "      <td>00AK</td>\n",
       "      <td>None</td>\n",
       "      <td>None</td>\n",
       "      <td>None</td>\n",
       "      <td>US</td>\n",
       "      <td>AK</td>\n",
       "    </tr>\n",
       "  </tbody>\n",
       "</table>\n",
       "</div>"
      ],
      "text/plain": [
       "       id ident           type                  name  latitude_deg  \\\n",
       "0    6523   00A       heliport     Total Rf Heliport     40.070801   \n",
       "1  323361  00AA  small_airport  Aero B Ranch Airport     38.704022   \n",
       "2    6524  00AK  small_airport          Lowell Field     59.949200   \n",
       "\n",
       "   longitude_deg  elevation_ft continent iso_country iso_region  municipality  \\\n",
       "0     -74.933601            11        NA          US      US-PA      BENSALEM   \n",
       "1    -101.473911          3435        NA          US      US-KS         LEOTI   \n",
       "2    -151.695999           450        NA          US      US-AK  ANCHOR POINT   \n",
       "\n",
       "  scheduled_service gps_code iata_code local_code home_link wikipedia_link  \\\n",
       "0                no      00A      None        00A      None           None   \n",
       "1                no     00AA      None       00AA      None           None   \n",
       "2                no     00AK      None       00AK      None           None   \n",
       "\n",
       "  keywords country state  \n",
       "0     None      US    PA  \n",
       "1     None      US    KS  \n",
       "2     None      US    AK  "
      ]
     },
     "execution_count": 65,
     "metadata": {},
     "output_type": "execute_result"
    }
   ],
   "source": [
    "airport_spark = spark.read.format('csv').options(header='true', inferSchema='true').load('airports.csv')\n",
    "\n",
    "# Drop NaN values in municipality\n",
    "airport_spark = airport_spark.filter(airport_spark.municipality.isNotNull())\n",
    "# Upper case for merging later\n",
    "airport_spark = airport_spark.withColumn('municipality', upper(col('municipality'))) \n",
    "# Split into country and state\n",
    "region_split = split(col('iso_region'), '-')\n",
    "airport_spark = airport_spark.withColumn('country', region_split.getItem(0))\n",
    "airport_spark = airport_spark.withColumn('state', region_split.getItem(1))\n",
    "print(airport_spark.count())\n",
    "airport_spark.limit(3).toPandas()"
   ]
  },
  {
   "cell_type": "markdown",
   "metadata": {
    "editable": true
   },
   "source": [
    "## Table 1: Airport Types Dimension Table\n",
    "- Stores all different types of airports in each location"
   ]
  },
  {
   "cell_type": "code",
   "execution_count": 66,
   "metadata": {
    "editable": true
   },
   "outputs": [
    {
     "data": {
      "text/html": [
       "<div>\n",
       "<style scoped>\n",
       "    .dataframe tbody tr th:only-of-type {\n",
       "        vertical-align: middle;\n",
       "    }\n",
       "\n",
       "    .dataframe tbody tr th {\n",
       "        vertical-align: top;\n",
       "    }\n",
       "\n",
       "    .dataframe thead th {\n",
       "        text-align: right;\n",
       "    }\n",
       "</style>\n",
       "<table border=\"1\" class=\"dataframe\">\n",
       "  <thead>\n",
       "    <tr style=\"text-align: right;\">\n",
       "      <th></th>\n",
       "      <th>continent</th>\n",
       "      <th>country</th>\n",
       "      <th>state</th>\n",
       "      <th>municipality</th>\n",
       "      <th>type</th>\n",
       "      <th>name</th>\n",
       "      <th>latitude_deg</th>\n",
       "      <th>longitude_deg</th>\n",
       "      <th>elevation_ft</th>\n",
       "    </tr>\n",
       "  </thead>\n",
       "  <tbody>\n",
       "    <tr>\n",
       "      <th>0</th>\n",
       "      <td>NA</td>\n",
       "      <td>US</td>\n",
       "      <td>PA</td>\n",
       "      <td>BENSALEM</td>\n",
       "      <td>heliport</td>\n",
       "      <td>Total Rf Heliport</td>\n",
       "      <td>40.070801</td>\n",
       "      <td>-74.933601</td>\n",
       "      <td>11</td>\n",
       "    </tr>\n",
       "    <tr>\n",
       "      <th>1</th>\n",
       "      <td>NA</td>\n",
       "      <td>US</td>\n",
       "      <td>KS</td>\n",
       "      <td>LEOTI</td>\n",
       "      <td>small_airport</td>\n",
       "      <td>Aero B Ranch Airport</td>\n",
       "      <td>38.704022</td>\n",
       "      <td>-101.473911</td>\n",
       "      <td>3435</td>\n",
       "    </tr>\n",
       "    <tr>\n",
       "      <th>2</th>\n",
       "      <td>NA</td>\n",
       "      <td>US</td>\n",
       "      <td>AK</td>\n",
       "      <td>ANCHOR POINT</td>\n",
       "      <td>small_airport</td>\n",
       "      <td>Lowell Field</td>\n",
       "      <td>59.949200</td>\n",
       "      <td>-151.695999</td>\n",
       "      <td>450</td>\n",
       "    </tr>\n",
       "  </tbody>\n",
       "</table>\n",
       "</div>"
      ],
      "text/plain": [
       "  continent country state  municipality           type                  name  \\\n",
       "0        NA      US    PA      BENSALEM       heliport     Total Rf Heliport   \n",
       "1        NA      US    KS         LEOTI  small_airport  Aero B Ranch Airport   \n",
       "2        NA      US    AK  ANCHOR POINT  small_airport          Lowell Field   \n",
       "\n",
       "   latitude_deg  longitude_deg  elevation_ft  \n",
       "0     40.070801     -74.933601            11  \n",
       "1     38.704022    -101.473911          3435  \n",
       "2     59.949200    -151.695999           450  "
      ]
     },
     "execution_count": 66,
     "metadata": {},
     "output_type": "execute_result"
    }
   ],
   "source": [
    "airport_types = airport_spark.select('continent','country','state','municipality','type',\n",
    "                                     'name','latitude_deg','longitude_deg','elevation_ft')\n",
    "airport_types.limit(3).toPandas()"
   ]
  },
  {
   "cell_type": "code",
   "execution_count": 67,
   "metadata": {
    "editable": true
   },
   "outputs": [
    {
     "data": {
      "text/html": [
       "<div>\n",
       "<style scoped>\n",
       "    .dataframe tbody tr th:only-of-type {\n",
       "        vertical-align: middle;\n",
       "    }\n",
       "\n",
       "    .dataframe tbody tr th {\n",
       "        vertical-align: top;\n",
       "    }\n",
       "\n",
       "    .dataframe thead th {\n",
       "        text-align: right;\n",
       "    }\n",
       "</style>\n",
       "<table border=\"1\" class=\"dataframe\">\n",
       "  <thead>\n",
       "    <tr style=\"text-align: right;\">\n",
       "      <th></th>\n",
       "      <th>continent</th>\n",
       "      <th>country</th>\n",
       "      <th>state</th>\n",
       "      <th>municipality</th>\n",
       "      <th>type</th>\n",
       "      <th>name</th>\n",
       "      <th>latitude_deg</th>\n",
       "      <th>longitude_deg</th>\n",
       "      <th>elevation_ft</th>\n",
       "    </tr>\n",
       "  </thead>\n",
       "  <tbody>\n",
       "    <tr>\n",
       "      <th>0</th>\n",
       "      <td>0</td>\n",
       "      <td>0</td>\n",
       "      <td>0</td>\n",
       "      <td>0</td>\n",
       "      <td>0</td>\n",
       "      <td>0</td>\n",
       "      <td>0</td>\n",
       "      <td>0</td>\n",
       "      <td>4492</td>\n",
       "    </tr>\n",
       "  </tbody>\n",
       "</table>\n",
       "</div>"
      ],
      "text/plain": [
       "   continent  country  state  municipality  type  name  latitude_deg  \\\n",
       "0          0        0      0             0     0     0             0   \n",
       "\n",
       "   longitude_deg  elevation_ft  \n",
       "0              0          4492  "
      ]
     },
     "execution_count": 67,
     "metadata": {},
     "output_type": "execute_result"
    }
   ],
   "source": [
    "airport_types.select([count(when(isnan(c) | col(c).isNull(), c)).alias(c) for c in airport_types.columns]).toPandas()"
   ]
  },
  {
   "cell_type": "markdown",
   "metadata": {
    "editable": true
   },
   "source": [
    "### Saves airport_types to S3\n",
    "- confirm continent, country, state, munipality has data"
   ]
  },
  {
   "cell_type": "code",
   "execution_count": 37,
   "metadata": {
    "editable": true
   },
   "outputs": [],
   "source": [
    "output = 's3a://immigration-airport-data/airport_types'\n",
    "airport_types.write.parquet(output, mode='overwrite')"
   ]
  },
  {
   "cell_type": "markdown",
   "metadata": {
    "editable": true
   },
   "source": [
    "### Table 2: aggregating airport types\n",
    "- Using group by and pivot in PySpark to create a new dataframe aggregating the total number of airport types in each city\n",
    "- Dropped all airports that are closed"
   ]
  },
  {
   "cell_type": "code",
   "execution_count": 68,
   "metadata": {
    "editable": true
   },
   "outputs": [
    {
     "data": {
      "text/html": [
       "<div>\n",
       "<style scoped>\n",
       "    .dataframe tbody tr th:only-of-type {\n",
       "        vertical-align: middle;\n",
       "    }\n",
       "\n",
       "    .dataframe tbody tr th {\n",
       "        vertical-align: top;\n",
       "    }\n",
       "\n",
       "    .dataframe thead th {\n",
       "        text-align: right;\n",
       "    }\n",
       "</style>\n",
       "<table border=\"1\" class=\"dataframe\">\n",
       "  <thead>\n",
       "    <tr style=\"text-align: right;\">\n",
       "      <th></th>\n",
       "      <th>country</th>\n",
       "      <th>state</th>\n",
       "      <th>municipality</th>\n",
       "      <th>balloonport</th>\n",
       "      <th>heliport</th>\n",
       "      <th>large_airport</th>\n",
       "      <th>medium_airport</th>\n",
       "      <th>seaplane_base</th>\n",
       "      <th>small_airport</th>\n",
       "    </tr>\n",
       "  </thead>\n",
       "  <tbody>\n",
       "    <tr>\n",
       "      <th>0</th>\n",
       "      <td>FR</td>\n",
       "      <td>HDF</td>\n",
       "      <td>BOIS BERNARD</td>\n",
       "      <td>None</td>\n",
       "      <td>1</td>\n",
       "      <td>NaN</td>\n",
       "      <td>None</td>\n",
       "      <td>None</td>\n",
       "      <td>NaN</td>\n",
       "    </tr>\n",
       "    <tr>\n",
       "      <th>1</th>\n",
       "      <td>US</td>\n",
       "      <td>DE</td>\n",
       "      <td>DOVER</td>\n",
       "      <td>None</td>\n",
       "      <td>5</td>\n",
       "      <td>1.0</td>\n",
       "      <td>None</td>\n",
       "      <td>None</td>\n",
       "      <td>1.0</td>\n",
       "    </tr>\n",
       "    <tr>\n",
       "      <th>2</th>\n",
       "      <td>CZ</td>\n",
       "      <td>VY</td>\n",
       "      <td>JIHLAVA</td>\n",
       "      <td>None</td>\n",
       "      <td>1</td>\n",
       "      <td>NaN</td>\n",
       "      <td>None</td>\n",
       "      <td>None</td>\n",
       "      <td>1.0</td>\n",
       "    </tr>\n",
       "  </tbody>\n",
       "</table>\n",
       "</div>"
      ],
      "text/plain": [
       "  country state  municipality balloonport  heliport  large_airport  \\\n",
       "0      FR   HDF  BOIS BERNARD        None         1            NaN   \n",
       "1      US    DE         DOVER        None         5            1.0   \n",
       "2      CZ    VY       JIHLAVA        None         1            NaN   \n",
       "\n",
       "  medium_airport seaplane_base  small_airport  \n",
       "0           None          None            NaN  \n",
       "1           None          None            1.0  \n",
       "2           None          None            1.0  "
      ]
     },
     "execution_count": 68,
     "metadata": {},
     "output_type": "execute_result"
    }
   ],
   "source": [
    "# Create a new table to show number of different kind of airports in each city\n",
    "airport_pivot = airport_spark.groupBy('country','state','municipality').pivot('type').count().drop('closed')\n",
    "airport_pivot.limit(3).toPandas()"
   ]
  },
  {
   "cell_type": "markdown",
   "metadata": {
    "editable": true
   },
   "source": [
    "##### Changing column types"
   ]
  },
  {
   "cell_type": "code",
   "execution_count": 69,
   "metadata": {
    "editable": true
   },
   "outputs": [],
   "source": [
    "for port_type in airport_pivot.columns[3:]:\n",
    "    airport_pivot=airport_pivot.withColumn(port_type, airport_pivot[port_type].cast('int'))"
   ]
  },
  {
   "cell_type": "code",
   "execution_count": 70,
   "metadata": {
    "editable": true
   },
   "outputs": [
    {
     "name": "stdout",
     "output_type": "stream",
     "text": [
      "root\n",
      " |-- country: string (nullable = true)\n",
      " |-- state: string (nullable = true)\n",
      " |-- municipality: string (nullable = true)\n",
      " |-- balloonport: integer (nullable = true)\n",
      " |-- heliport: integer (nullable = true)\n",
      " |-- large_airport: integer (nullable = true)\n",
      " |-- medium_airport: integer (nullable = true)\n",
      " |-- seaplane_base: integer (nullable = true)\n",
      " |-- small_airport: integer (nullable = true)\n",
      "\n"
     ]
    }
   ],
   "source": [
    "airport_pivot.printSchema()"
   ]
  },
  {
   "cell_type": "code",
   "execution_count": 71,
   "metadata": {
    "editable": true
   },
   "outputs": [
    {
     "data": {
      "text/html": [
       "<div>\n",
       "<style scoped>\n",
       "    .dataframe tbody tr th:only-of-type {\n",
       "        vertical-align: middle;\n",
       "    }\n",
       "\n",
       "    .dataframe tbody tr th {\n",
       "        vertical-align: top;\n",
       "    }\n",
       "\n",
       "    .dataframe thead th {\n",
       "        text-align: right;\n",
       "    }\n",
       "</style>\n",
       "<table border=\"1\" class=\"dataframe\">\n",
       "  <thead>\n",
       "    <tr style=\"text-align: right;\">\n",
       "      <th></th>\n",
       "      <th>country</th>\n",
       "      <th>state</th>\n",
       "      <th>municipality</th>\n",
       "      <th>balloonport</th>\n",
       "      <th>heliport</th>\n",
       "      <th>large_airport</th>\n",
       "      <th>medium_airport</th>\n",
       "      <th>seaplane_base</th>\n",
       "      <th>small_airport</th>\n",
       "    </tr>\n",
       "  </thead>\n",
       "  <tbody>\n",
       "    <tr>\n",
       "      <th>0</th>\n",
       "      <td>0</td>\n",
       "      <td>0</td>\n",
       "      <td>0</td>\n",
       "      <td>31882</td>\n",
       "      <td>25356</td>\n",
       "      <td>31331</td>\n",
       "      <td>28022</td>\n",
       "      <td>31222</td>\n",
       "      <td>9251</td>\n",
       "    </tr>\n",
       "  </tbody>\n",
       "</table>\n",
       "</div>"
      ],
      "text/plain": [
       "   country  state  municipality  balloonport  heliport  large_airport  \\\n",
       "0        0      0             0        31882     25356          31331   \n",
       "\n",
       "   medium_airport  seaplane_base  small_airport  \n",
       "0           28022          31222           9251  "
      ]
     },
     "execution_count": 71,
     "metadata": {},
     "output_type": "execute_result"
    }
   ],
   "source": [
    "# Making sure country, state, municipality doesn't have NULL values\n",
    "airport_pivot.select([count(when(isnan(c) | col(c).isNull(), c)).alias(c) for c in airport_pivot.columns]).toPandas()"
   ]
  },
  {
   "cell_type": "markdown",
   "metadata": {
    "editable": true
   },
   "source": [
    "### Saving aggregation of airports table to S3"
   ]
  },
  {
   "cell_type": "code",
   "execution_count": 39,
   "metadata": {
    "editable": true
   },
   "outputs": [],
   "source": [
    "output = 's3a://immigration-airport-data/airport_aggregate'\n",
    "airport_pivot.write.parquet(output, mode='overwrite')"
   ]
  },
  {
   "cell_type": "markdown",
   "metadata": {
    "editable": true
   },
   "source": [
    "### Created module to convert i94 codes\n",
    "- i94_codes.py"
   ]
  },
  {
   "cell_type": "code",
   "execution_count": 44,
   "metadata": {
    "editable": true
   },
   "outputs": [
    {
     "data": {
      "text/plain": [
       "('FORT MYERS, FL', 'ALBANIA')"
      ]
     },
     "execution_count": 44,
     "metadata": {},
     "output_type": "execute_result"
    }
   ],
   "source": [
    "from i94_codes import port_codes_dict, city_res_codes_dict\n",
    "\n",
    "port_codes_dict.get('FMY'), city_res_codes_dict.get(101)"
   ]
  },
  {
   "cell_type": "markdown",
   "metadata": {
    "editable": true
   },
   "source": [
    "## Explore and Clean Immigration Data"
   ]
  },
  {
   "cell_type": "code",
   "execution_count": 6,
   "metadata": {
    "editable": true
   },
   "outputs": [
    {
     "data": {
      "text/plain": [
       "40790529"
      ]
     },
     "execution_count": 6,
     "metadata": {},
     "output_type": "execute_result"
    }
   ],
   "source": [
    "df_i94 = spark.read.parquet(\"s3a://immigration-airport-data/immigration\")\n",
    "df_i94.count()\n",
    "# 40 million total rows"
   ]
  },
  {
   "cell_type": "code",
   "execution_count": 45,
   "metadata": {
    "editable": true
   },
   "outputs": [
    {
     "data": {
      "text/html": [
       "<div>\n",
       "<style scoped>\n",
       "    .dataframe tbody tr th:only-of-type {\n",
       "        vertical-align: middle;\n",
       "    }\n",
       "\n",
       "    .dataframe tbody tr th {\n",
       "        vertical-align: top;\n",
       "    }\n",
       "\n",
       "    .dataframe thead th {\n",
       "        text-align: right;\n",
       "    }\n",
       "</style>\n",
       "<table border=\"1\" class=\"dataframe\">\n",
       "  <thead>\n",
       "    <tr style=\"text-align: right;\">\n",
       "      <th></th>\n",
       "      <th>cicid</th>\n",
       "      <th>i94yr</th>\n",
       "      <th>i94mon</th>\n",
       "      <th>i94cit</th>\n",
       "      <th>i94res</th>\n",
       "      <th>i94port</th>\n",
       "      <th>arrdate</th>\n",
       "      <th>i94mode</th>\n",
       "      <th>i94addr</th>\n",
       "      <th>depdate</th>\n",
       "      <th>i94bir</th>\n",
       "      <th>i94visa</th>\n",
       "      <th>count</th>\n",
       "      <th>dtadfile</th>\n",
       "      <th>visapost</th>\n",
       "      <th>occup</th>\n",
       "      <th>entdepa</th>\n",
       "      <th>entdepd</th>\n",
       "      <th>entdepu</th>\n",
       "      <th>matflag</th>\n",
       "      <th>biryear</th>\n",
       "      <th>dtaddto</th>\n",
       "      <th>gender</th>\n",
       "      <th>insnum</th>\n",
       "      <th>airline</th>\n",
       "      <th>admnum</th>\n",
       "      <th>fltno</th>\n",
       "      <th>visatype</th>\n",
       "      <th>year</th>\n",
       "      <th>month</th>\n",
       "    </tr>\n",
       "  </thead>\n",
       "  <tbody>\n",
       "    <tr>\n",
       "      <th>0</th>\n",
       "      <td>7.0</td>\n",
       "      <td>2016.0</td>\n",
       "      <td>1.0</td>\n",
       "      <td>101.0</td>\n",
       "      <td>101.0</td>\n",
       "      <td>BOS</td>\n",
       "      <td>20465.0</td>\n",
       "      <td>1.0</td>\n",
       "      <td>MA</td>\n",
       "      <td>NaN</td>\n",
       "      <td>20.0</td>\n",
       "      <td>3.0</td>\n",
       "      <td>1.0</td>\n",
       "      <td>None</td>\n",
       "      <td>None</td>\n",
       "      <td>None</td>\n",
       "      <td>T</td>\n",
       "      <td>None</td>\n",
       "      <td>None</td>\n",
       "      <td>None</td>\n",
       "      <td>1996.0</td>\n",
       "      <td>D/S</td>\n",
       "      <td>M</td>\n",
       "      <td>None</td>\n",
       "      <td>LH</td>\n",
       "      <td>346608285.0</td>\n",
       "      <td>424</td>\n",
       "      <td>F1</td>\n",
       "      <td>2016</td>\n",
       "      <td>1</td>\n",
       "    </tr>\n",
       "    <tr>\n",
       "      <th>1</th>\n",
       "      <td>8.0</td>\n",
       "      <td>2016.0</td>\n",
       "      <td>1.0</td>\n",
       "      <td>101.0</td>\n",
       "      <td>101.0</td>\n",
       "      <td>BOS</td>\n",
       "      <td>20465.0</td>\n",
       "      <td>1.0</td>\n",
       "      <td>MA</td>\n",
       "      <td>NaN</td>\n",
       "      <td>20.0</td>\n",
       "      <td>3.0</td>\n",
       "      <td>1.0</td>\n",
       "      <td>None</td>\n",
       "      <td>None</td>\n",
       "      <td>None</td>\n",
       "      <td>T</td>\n",
       "      <td>None</td>\n",
       "      <td>None</td>\n",
       "      <td>None</td>\n",
       "      <td>1996.0</td>\n",
       "      <td>D/S</td>\n",
       "      <td>M</td>\n",
       "      <td>None</td>\n",
       "      <td>LH</td>\n",
       "      <td>346627585.0</td>\n",
       "      <td>424</td>\n",
       "      <td>F1</td>\n",
       "      <td>2016</td>\n",
       "      <td>1</td>\n",
       "    </tr>\n",
       "    <tr>\n",
       "      <th>2</th>\n",
       "      <td>9.0</td>\n",
       "      <td>2016.0</td>\n",
       "      <td>1.0</td>\n",
       "      <td>101.0</td>\n",
       "      <td>101.0</td>\n",
       "      <td>BOS</td>\n",
       "      <td>20469.0</td>\n",
       "      <td>1.0</td>\n",
       "      <td>CT</td>\n",
       "      <td>20480.0</td>\n",
       "      <td>17.0</td>\n",
       "      <td>2.0</td>\n",
       "      <td>1.0</td>\n",
       "      <td>None</td>\n",
       "      <td>None</td>\n",
       "      <td>None</td>\n",
       "      <td>T</td>\n",
       "      <td>N</td>\n",
       "      <td>None</td>\n",
       "      <td>M</td>\n",
       "      <td>1999.0</td>\n",
       "      <td>07152016</td>\n",
       "      <td>F</td>\n",
       "      <td>None</td>\n",
       "      <td>AF</td>\n",
       "      <td>381092385.0</td>\n",
       "      <td>338</td>\n",
       "      <td>B2</td>\n",
       "      <td>2016</td>\n",
       "      <td>1</td>\n",
       "    </tr>\n",
       "  </tbody>\n",
       "</table>\n",
       "</div>"
      ],
      "text/plain": [
       "   cicid   i94yr  i94mon  i94cit  i94res i94port  arrdate  i94mode i94addr  \\\n",
       "0    7.0  2016.0     1.0   101.0   101.0     BOS  20465.0      1.0      MA   \n",
       "1    8.0  2016.0     1.0   101.0   101.0     BOS  20465.0      1.0      MA   \n",
       "2    9.0  2016.0     1.0   101.0   101.0     BOS  20469.0      1.0      CT   \n",
       "\n",
       "   depdate  i94bir  i94visa  count dtadfile visapost occup entdepa entdepd  \\\n",
       "0      NaN    20.0      3.0    1.0     None     None  None       T    None   \n",
       "1      NaN    20.0      3.0    1.0     None     None  None       T    None   \n",
       "2  20480.0    17.0      2.0    1.0     None     None  None       T       N   \n",
       "\n",
       "  entdepu matflag  biryear   dtaddto gender insnum airline       admnum fltno  \\\n",
       "0    None    None   1996.0       D/S      M   None      LH  346608285.0   424   \n",
       "1    None    None   1996.0       D/S      M   None      LH  346627585.0   424   \n",
       "2    None       M   1999.0  07152016      F   None      AF  381092385.0   338   \n",
       "\n",
       "  visatype  year  month  \n",
       "0       F1  2016      1  \n",
       "1       F1  2016      1  \n",
       "2       B2  2016      1  "
      ]
     },
     "execution_count": 45,
     "metadata": {},
     "output_type": "execute_result"
    }
   ],
   "source": [
    "df_i94 = df_i94.withColumn(\"year\", col(\"i94yr\").cast(IntegerType())) \\\n",
    "               .withColumn(\"month\", col(\"i94mon\").cast(IntegerType()))\n",
    "df_i94.count()\n",
    "df_i94.limit(3).toPandas()"
   ]
  },
  {
   "cell_type": "markdown",
   "metadata": {
    "editable": true
   },
   "source": [
    "## Table 3: Convert City and Res code into new table\n",
    "- Used the code coverter dictionary to feature engineer city and res names"
   ]
  },
  {
   "cell_type": "code",
   "execution_count": 46,
   "metadata": {
    "editable": true
   },
   "outputs": [
    {
     "data": {
      "text/html": [
       "<div>\n",
       "<style scoped>\n",
       "    .dataframe tbody tr th:only-of-type {\n",
       "        vertical-align: middle;\n",
       "    }\n",
       "\n",
       "    .dataframe tbody tr th {\n",
       "        vertical-align: top;\n",
       "    }\n",
       "\n",
       "    .dataframe thead th {\n",
       "        text-align: right;\n",
       "    }\n",
       "</style>\n",
       "<table border=\"1\" class=\"dataframe\">\n",
       "  <thead>\n",
       "    <tr style=\"text-align: right;\">\n",
       "      <th></th>\n",
       "      <th>year</th>\n",
       "      <th>month</th>\n",
       "      <th>i94res</th>\n",
       "      <th>i94cit</th>\n",
       "      <th>i94yr</th>\n",
       "      <th>i94mon</th>\n",
       "      <th>count</th>\n",
       "      <th>city_name</th>\n",
       "      <th>res_name</th>\n",
       "    </tr>\n",
       "  </thead>\n",
       "  <tbody>\n",
       "    <tr>\n",
       "      <th>0</th>\n",
       "      <td>2016</td>\n",
       "      <td>1</td>\n",
       "      <td>112.0</td>\n",
       "      <td>113.0</td>\n",
       "      <td>2016.0</td>\n",
       "      <td>1.0</td>\n",
       "      <td>96</td>\n",
       "      <td>GREECE</td>\n",
       "      <td>GERMANY</td>\n",
       "    </tr>\n",
       "  </tbody>\n",
       "</table>\n",
       "</div>"
      ],
      "text/plain": [
       "   year  month  i94res  i94cit   i94yr  i94mon  count city_name res_name\n",
       "0  2016      1   112.0   113.0  2016.0     1.0     96    GREECE  GERMANY"
      ]
     },
     "execution_count": 46,
     "metadata": {},
     "output_type": "execute_result"
    }
   ],
   "source": [
    "convert_city_res = udf(lambda x: city_res_codes_dict.get(x), StringType())\n",
    "\n",
    "city_res = df_i94.groupBy('year','month','i94res','i94cit','i94yr','i94mon').count()\n",
    "city_res = city_res.withColumn('city_name', convert_city_res(col('i94cit'))) \\\n",
    "                   .withColumn('res_name', convert_city_res(col('i94res')))\n",
    "city_res.limit(3).toPandas()"
   ]
  },
  {
   "cell_type": "code",
   "execution_count": 58,
   "metadata": {
    "editable": true
   },
   "outputs": [
    {
     "data": {
      "text/html": [
       "<div>\n",
       "<style scoped>\n",
       "    .dataframe tbody tr th:only-of-type {\n",
       "        vertical-align: middle;\n",
       "    }\n",
       "\n",
       "    .dataframe tbody tr th {\n",
       "        vertical-align: top;\n",
       "    }\n",
       "\n",
       "    .dataframe thead th {\n",
       "        text-align: right;\n",
       "    }\n",
       "</style>\n",
       "<table border=\"1\" class=\"dataframe\">\n",
       "  <thead>\n",
       "    <tr style=\"text-align: right;\">\n",
       "      <th></th>\n",
       "      <th>year</th>\n",
       "      <th>month</th>\n",
       "      <th>i94res</th>\n",
       "      <th>i94cit</th>\n",
       "      <th>i94yr</th>\n",
       "      <th>i94mon</th>\n",
       "      <th>count</th>\n",
       "      <th>city_name</th>\n",
       "      <th>res_name</th>\n",
       "    </tr>\n",
       "  </thead>\n",
       "  <tbody>\n",
       "    <tr>\n",
       "      <th>0</th>\n",
       "      <td>0</td>\n",
       "      <td>0</td>\n",
       "      <td>0</td>\n",
       "      <td>0</td>\n",
       "      <td>0</td>\n",
       "      <td>0</td>\n",
       "      <td>0</td>\n",
       "      <td>515</td>\n",
       "      <td>0</td>\n",
       "    </tr>\n",
       "  </tbody>\n",
       "</table>\n",
       "</div>"
      ],
      "text/plain": [
       "   year  month  i94res  i94cit  i94yr  i94mon  count  city_name  res_name\n",
       "0     0      0       0       0      0       0      0        515         0"
      ]
     },
     "execution_count": 58,
     "metadata": {},
     "output_type": "execute_result"
    }
   ],
   "source": [
    "# The code dictionary does not match all city codes\n",
    "city_res.select([count(when(isnan(c) | col(c).isNull(), c)).alias(c) for c in city_res.columns]).toPandas()"
   ]
  },
  {
   "cell_type": "code",
   "execution_count": null,
   "metadata": {
    "editable": true
   },
   "outputs": [],
   "source": [
    "output = 's3a://immigration-airport-data/immigration_city_res'\n",
    "city_res.write.partitionBy('year', 'month').parquet(output, mode='append')"
   ]
  },
  {
   "cell_type": "markdown",
   "metadata": {
    "editable": true
   },
   "source": [
    "## Table 4: Immigration Port code (dimension table)\n",
    "- Using the code converter to feature engineer port names"
   ]
  },
  {
   "cell_type": "code",
   "execution_count": 81,
   "metadata": {
    "editable": true
   },
   "outputs": [
    {
     "data": {
      "text/html": [
       "<div>\n",
       "<style scoped>\n",
       "    .dataframe tbody tr th:only-of-type {\n",
       "        vertical-align: middle;\n",
       "    }\n",
       "\n",
       "    .dataframe tbody tr th {\n",
       "        vertical-align: top;\n",
       "    }\n",
       "\n",
       "    .dataframe thead th {\n",
       "        text-align: right;\n",
       "    }\n",
       "</style>\n",
       "<table border=\"1\" class=\"dataframe\">\n",
       "  <thead>\n",
       "    <tr style=\"text-align: right;\">\n",
       "      <th></th>\n",
       "      <th>year</th>\n",
       "      <th>month</th>\n",
       "      <th>i94port</th>\n",
       "      <th>i94yr</th>\n",
       "      <th>i94mon</th>\n",
       "      <th>count</th>\n",
       "      <th>port_name</th>\n",
       "    </tr>\n",
       "  </thead>\n",
       "  <tbody>\n",
       "    <tr>\n",
       "      <th>0</th>\n",
       "      <td>2016</td>\n",
       "      <td>1</td>\n",
       "      <td>LAN</td>\n",
       "      <td>2016.0</td>\n",
       "      <td>1.0</td>\n",
       "      <td>8</td>\n",
       "      <td>LANCASTER, MN</td>\n",
       "    </tr>\n",
       "    <tr>\n",
       "      <th>1</th>\n",
       "      <td>2016</td>\n",
       "      <td>1</td>\n",
       "      <td>BLA</td>\n",
       "      <td>2016.0</td>\n",
       "      <td>1.0</td>\n",
       "      <td>11433</td>\n",
       "      <td>BLAINE, WA</td>\n",
       "    </tr>\n",
       "    <tr>\n",
       "      <th>2</th>\n",
       "      <td>2016</td>\n",
       "      <td>1</td>\n",
       "      <td>MAS</td>\n",
       "      <td>2016.0</td>\n",
       "      <td>1.0</td>\n",
       "      <td>103</td>\n",
       "      <td>MASSENA, NY</td>\n",
       "    </tr>\n",
       "  </tbody>\n",
       "</table>\n",
       "</div>"
      ],
      "text/plain": [
       "   year  month i94port   i94yr  i94mon  count      port_name\n",
       "0  2016      1     LAN  2016.0     1.0      8  LANCASTER, MN\n",
       "1  2016      1     BLA  2016.0     1.0  11433     BLAINE, WA\n",
       "2  2016      1     MAS  2016.0     1.0    103    MASSENA, NY"
      ]
     },
     "execution_count": 81,
     "metadata": {},
     "output_type": "execute_result"
    }
   ],
   "source": [
    "convert_port = udf(lambda x: port_codes_dict.get(x), StringType())\n",
    "\n",
    "port_i94 = df_i94.groupBy('year','month','i94port','i94yr','i94mon').count()\n",
    "port_i94 = port_i94.withColumn('port_name', convert_port(col('i94port')))\n",
    "port_i94.limit(3).toPandas()"
   ]
  },
  {
   "cell_type": "code",
   "execution_count": 75,
   "metadata": {
    "editable": true
   },
   "outputs": [
    {
     "data": {
      "text/html": [
       "<div>\n",
       "<style scoped>\n",
       "    .dataframe tbody tr th:only-of-type {\n",
       "        vertical-align: middle;\n",
       "    }\n",
       "\n",
       "    .dataframe tbody tr th {\n",
       "        vertical-align: top;\n",
       "    }\n",
       "\n",
       "    .dataframe thead th {\n",
       "        text-align: right;\n",
       "    }\n",
       "</style>\n",
       "<table border=\"1\" class=\"dataframe\">\n",
       "  <thead>\n",
       "    <tr style=\"text-align: right;\">\n",
       "      <th></th>\n",
       "      <th>year</th>\n",
       "      <th>month</th>\n",
       "      <th>i94port</th>\n",
       "      <th>i94yr</th>\n",
       "      <th>i94mon</th>\n",
       "      <th>count</th>\n",
       "      <th>port_name</th>\n",
       "    </tr>\n",
       "  </thead>\n",
       "  <tbody>\n",
       "    <tr>\n",
       "      <th>0</th>\n",
       "      <td>0</td>\n",
       "      <td>0</td>\n",
       "      <td>0</td>\n",
       "      <td>0</td>\n",
       "      <td>0</td>\n",
       "      <td>0</td>\n",
       "      <td>0</td>\n",
       "    </tr>\n",
       "  </tbody>\n",
       "</table>\n",
       "</div>"
      ],
      "text/plain": [
       "   year  month  i94port  i94yr  i94mon  count  port_name\n",
       "0     0      0        0      0       0      0          0"
      ]
     },
     "execution_count": 75,
     "metadata": {},
     "output_type": "execute_result"
    }
   ],
   "source": [
    "port_i94.select([count(when(isnan(c) | col(c).isNull(), c)).alias(c) for c in port_i94.columns]).toPandas()"
   ]
  },
  {
   "cell_type": "code",
   "execution_count": 54,
   "metadata": {
    "editable": true
   },
   "outputs": [],
   "source": [
    "output = 's3a://immigration-airport-data/immigration_port'\n",
    "port_i94.write.partitionBy('year', 'month').parquet(output, mode='append')"
   ]
  },
  {
   "cell_type": "markdown",
   "metadata": {
    "editable": true
   },
   "source": [
    "### Table 5: Fact table - aggregate immigrants and airports"
   ]
  },
  {
   "cell_type": "code",
   "execution_count": 48,
   "metadata": {
    "editable": true
   },
   "outputs": [
    {
     "data": {
      "text/html": [
       "<div>\n",
       "<style scoped>\n",
       "    .dataframe tbody tr th:only-of-type {\n",
       "        vertical-align: middle;\n",
       "    }\n",
       "\n",
       "    .dataframe tbody tr th {\n",
       "        vertical-align: top;\n",
       "    }\n",
       "\n",
       "    .dataframe thead th {\n",
       "        text-align: right;\n",
       "    }\n",
       "</style>\n",
       "<table border=\"1\" class=\"dataframe\">\n",
       "  <thead>\n",
       "    <tr style=\"text-align: right;\">\n",
       "      <th></th>\n",
       "      <th>year</th>\n",
       "      <th>month</th>\n",
       "      <th>i94port</th>\n",
       "      <th>i94yr</th>\n",
       "      <th>i94mon</th>\n",
       "      <th>count</th>\n",
       "      <th>port_name</th>\n",
       "      <th>city</th>\n",
       "      <th>state</th>\n",
       "    </tr>\n",
       "  </thead>\n",
       "  <tbody>\n",
       "    <tr>\n",
       "      <th>0</th>\n",
       "      <td>2016</td>\n",
       "      <td>1</td>\n",
       "      <td>LAN</td>\n",
       "      <td>2016.0</td>\n",
       "      <td>1.0</td>\n",
       "      <td>8</td>\n",
       "      <td>LANCASTER, MN</td>\n",
       "      <td>LANCASTER</td>\n",
       "      <td>MN</td>\n",
       "    </tr>\n",
       "    <tr>\n",
       "      <th>1</th>\n",
       "      <td>2016</td>\n",
       "      <td>1</td>\n",
       "      <td>BLA</td>\n",
       "      <td>2016.0</td>\n",
       "      <td>1.0</td>\n",
       "      <td>11433</td>\n",
       "      <td>BLAINE, WA</td>\n",
       "      <td>BLAINE</td>\n",
       "      <td>WA</td>\n",
       "    </tr>\n",
       "    <tr>\n",
       "      <th>2</th>\n",
       "      <td>2016</td>\n",
       "      <td>1</td>\n",
       "      <td>MAS</td>\n",
       "      <td>2016.0</td>\n",
       "      <td>1.0</td>\n",
       "      <td>103</td>\n",
       "      <td>MASSENA, NY</td>\n",
       "      <td>MASSENA</td>\n",
       "      <td>NY</td>\n",
       "    </tr>\n",
       "  </tbody>\n",
       "</table>\n",
       "</div>"
      ],
      "text/plain": [
       "   year  month i94port   i94yr  i94mon  count      port_name       city state\n",
       "0  2016      1     LAN  2016.0     1.0      8  LANCASTER, MN  LANCASTER    MN\n",
       "1  2016      1     BLA  2016.0     1.0  11433     BLAINE, WA     BLAINE    WA\n",
       "2  2016      1     MAS  2016.0     1.0    103    MASSENA, NY    MASSENA    NY"
      ]
     },
     "execution_count": 48,
     "metadata": {},
     "output_type": "execute_result"
    }
   ],
   "source": [
    "# Separate port_name into city and state\n",
    "city_state = split(col('port_name'), ', ')\n",
    "port_city_state = port_i94.withColumn('city', city_state.getItem(0)) \\\n",
    "                          .withColumn('state', city_state.getItem(1))\n",
    "port_city_state.limit(3).toPandas()"
   ]
  },
  {
   "cell_type": "code",
   "execution_count": 73,
   "metadata": {
    "editable": true
   },
   "outputs": [
    {
     "data": {
      "text/html": [
       "<div>\n",
       "<style scoped>\n",
       "    .dataframe tbody tr th:only-of-type {\n",
       "        vertical-align: middle;\n",
       "    }\n",
       "\n",
       "    .dataframe tbody tr th {\n",
       "        vertical-align: top;\n",
       "    }\n",
       "\n",
       "    .dataframe thead th {\n",
       "        text-align: right;\n",
       "    }\n",
       "</style>\n",
       "<table border=\"1\" class=\"dataframe\">\n",
       "  <thead>\n",
       "    <tr style=\"text-align: right;\">\n",
       "      <th></th>\n",
       "      <th>country</th>\n",
       "      <th>state</th>\n",
       "      <th>municipality</th>\n",
       "      <th>balloonport</th>\n",
       "      <th>heliport</th>\n",
       "      <th>large_airport</th>\n",
       "      <th>medium_airport</th>\n",
       "      <th>seaplane_base</th>\n",
       "      <th>small_airport</th>\n",
       "    </tr>\n",
       "  </thead>\n",
       "  <tbody>\n",
       "    <tr>\n",
       "      <th>0</th>\n",
       "      <td>FR</td>\n",
       "      <td>HDF</td>\n",
       "      <td>BOIS BERNARD</td>\n",
       "      <td>None</td>\n",
       "      <td>1</td>\n",
       "      <td>None</td>\n",
       "      <td>None</td>\n",
       "      <td>None</td>\n",
       "      <td>None</td>\n",
       "    </tr>\n",
       "  </tbody>\n",
       "</table>\n",
       "</div>"
      ],
      "text/plain": [
       "  country state  municipality balloonport  heliport large_airport  \\\n",
       "0      FR   HDF  BOIS BERNARD        None         1          None   \n",
       "\n",
       "  medium_airport seaplane_base small_airport  \n",
       "0           None          None          None  "
      ]
     },
     "execution_count": 73,
     "metadata": {},
     "output_type": "execute_result"
    }
   ],
   "source": [
    "airport_pivot.limit(1).toPandas()"
   ]
  },
  {
   "cell_type": "markdown",
   "metadata": {
    "editable": true
   },
   "source": [
    "### Joining airport_aggregate (pivot) table and immigration_port table"
   ]
  },
  {
   "cell_type": "code",
   "execution_count": 52,
   "metadata": {
    "editable": true
   },
   "outputs": [
    {
     "data": {
      "text/html": [
       "<div>\n",
       "<style scoped>\n",
       "    .dataframe tbody tr th:only-of-type {\n",
       "        vertical-align: middle;\n",
       "    }\n",
       "\n",
       "    .dataframe tbody tr th {\n",
       "        vertical-align: top;\n",
       "    }\n",
       "\n",
       "    .dataframe thead th {\n",
       "        text-align: right;\n",
       "    }\n",
       "</style>\n",
       "<table border=\"1\" class=\"dataframe\">\n",
       "  <thead>\n",
       "    <tr style=\"text-align: right;\">\n",
       "      <th></th>\n",
       "      <th>year</th>\n",
       "      <th>month</th>\n",
       "      <th>i94port</th>\n",
       "      <th>i94_count</th>\n",
       "      <th>port_name</th>\n",
       "      <th>city</th>\n",
       "      <th>state</th>\n",
       "      <th>small_airport</th>\n",
       "      <th>medium_airport</th>\n",
       "      <th>large_airport</th>\n",
       "      <th>seaplane_base</th>\n",
       "      <th>heliport</th>\n",
       "      <th>balloonport</th>\n",
       "      <th>i94yr</th>\n",
       "      <th>i94mon</th>\n",
       "    </tr>\n",
       "  </thead>\n",
       "  <tbody>\n",
       "    <tr>\n",
       "      <th>0</th>\n",
       "      <td>2016</td>\n",
       "      <td>1</td>\n",
       "      <td>LAN</td>\n",
       "      <td>8</td>\n",
       "      <td>LANCASTER, MN</td>\n",
       "      <td>LANCASTER</td>\n",
       "      <td>MN</td>\n",
       "      <td>None</td>\n",
       "      <td>NaN</td>\n",
       "      <td>None</td>\n",
       "      <td>None</td>\n",
       "      <td>NaN</td>\n",
       "      <td>None</td>\n",
       "      <td>2016</td>\n",
       "      <td>1</td>\n",
       "    </tr>\n",
       "    <tr>\n",
       "      <th>1</th>\n",
       "      <td>2016</td>\n",
       "      <td>1</td>\n",
       "      <td>BLA</td>\n",
       "      <td>11433</td>\n",
       "      <td>BLAINE, WA</td>\n",
       "      <td>BLAINE</td>\n",
       "      <td>WA</td>\n",
       "      <td>None</td>\n",
       "      <td>NaN</td>\n",
       "      <td>None</td>\n",
       "      <td>None</td>\n",
       "      <td>2.0</td>\n",
       "      <td>None</td>\n",
       "      <td>2016</td>\n",
       "      <td>1</td>\n",
       "    </tr>\n",
       "    <tr>\n",
       "      <th>2</th>\n",
       "      <td>2016</td>\n",
       "      <td>1</td>\n",
       "      <td>MAS</td>\n",
       "      <td>103</td>\n",
       "      <td>MASSENA, NY</td>\n",
       "      <td>MASSENA</td>\n",
       "      <td>NY</td>\n",
       "      <td>None</td>\n",
       "      <td>1.0</td>\n",
       "      <td>None</td>\n",
       "      <td>None</td>\n",
       "      <td>1.0</td>\n",
       "      <td>None</td>\n",
       "      <td>2016</td>\n",
       "      <td>1</td>\n",
       "    </tr>\n",
       "  </tbody>\n",
       "</table>\n",
       "</div>"
      ],
      "text/plain": [
       "   year  month i94port  i94_count      port_name       city state  \\\n",
       "0  2016      1     LAN          8  LANCASTER, MN  LANCASTER    MN   \n",
       "1  2016      1     BLA      11433     BLAINE, WA     BLAINE    WA   \n",
       "2  2016      1     MAS        103    MASSENA, NY    MASSENA    NY   \n",
       "\n",
       "  small_airport  medium_airport large_airport seaplane_base  heliport  \\\n",
       "0          None             NaN          None          None       NaN   \n",
       "1          None             NaN          None          None       2.0   \n",
       "2          None             1.0          None          None       1.0   \n",
       "\n",
       "  balloonport  i94yr  i94mon  \n",
       "0        None   2016       1  \n",
       "1        None   2016       1  \n",
       "2        None   2016       1  "
      ]
     },
     "execution_count": 52,
     "metadata": {},
     "output_type": "execute_result"
    }
   ],
   "source": [
    "df_joined = (port_city_state.alias('a')\n",
    "             .join(airport_pivot.alias('b'),\n",
    "                  (col('a.city') == col('b.municipality'))&\n",
    "                  (col('a.state') == col('b.state')),\n",
    "                   how='left')\n",
    "             .select('year','month','i94port',\n",
    "                     col('count').alias('i94_count'),\n",
    "                     'port_name','city',col('a.state'),\n",
    "                     'small_airport','medium_airport','large_airport',\n",
    "                     'seaplane_base','heliport','balloonport',\n",
    "                     col('year').alias('i94yr'),\n",
    "                     col('month').alias('i94mon'))\n",
    "            )\n",
    "df_joined.limit(3).toPandas()"
   ]
  },
  {
   "cell_type": "code",
   "execution_count": 76,
   "metadata": {
    "editable": true
   },
   "outputs": [
    {
     "data": {
      "text/html": [
       "<div>\n",
       "<style scoped>\n",
       "    .dataframe tbody tr th:only-of-type {\n",
       "        vertical-align: middle;\n",
       "    }\n",
       "\n",
       "    .dataframe tbody tr th {\n",
       "        vertical-align: top;\n",
       "    }\n",
       "\n",
       "    .dataframe thead th {\n",
       "        text-align: right;\n",
       "    }\n",
       "</style>\n",
       "<table border=\"1\" class=\"dataframe\">\n",
       "  <thead>\n",
       "    <tr style=\"text-align: right;\">\n",
       "      <th></th>\n",
       "      <th>year</th>\n",
       "      <th>month</th>\n",
       "      <th>i94port</th>\n",
       "      <th>i94_count</th>\n",
       "      <th>port_name</th>\n",
       "      <th>city</th>\n",
       "      <th>state</th>\n",
       "      <th>small_airport</th>\n",
       "      <th>medium_airport</th>\n",
       "      <th>large_airport</th>\n",
       "      <th>seaplane_base</th>\n",
       "      <th>heliport</th>\n",
       "      <th>balloonport</th>\n",
       "      <th>i94yr</th>\n",
       "      <th>i94mon</th>\n",
       "    </tr>\n",
       "  </thead>\n",
       "  <tbody>\n",
       "    <tr>\n",
       "      <th>0</th>\n",
       "      <td>0</td>\n",
       "      <td>0</td>\n",
       "      <td>0</td>\n",
       "      <td>0</td>\n",
       "      <td>0</td>\n",
       "      <td>0</td>\n",
       "      <td>0</td>\n",
       "      <td>0</td>\n",
       "      <td>0</td>\n",
       "      <td>0</td>\n",
       "      <td>0</td>\n",
       "      <td>0</td>\n",
       "      <td>0</td>\n",
       "      <td>0</td>\n",
       "      <td>0</td>\n",
       "    </tr>\n",
       "  </tbody>\n",
       "</table>\n",
       "</div>"
      ],
      "text/plain": [
       "   year  month  i94port  i94_count  port_name  city  state  small_airport  \\\n",
       "0     0      0        0          0          0     0      0              0   \n",
       "\n",
       "   medium_airport  large_airport  seaplane_base  heliport  balloonport  i94yr  \\\n",
       "0               0              0              0         0            0      0   \n",
       "\n",
       "   i94mon  \n",
       "0       0  "
      ]
     },
     "execution_count": 76,
     "metadata": {},
     "output_type": "execute_result"
    }
   ],
   "source": [
    "# Check which column has NaN values\n",
    "df_joined.select([count(when(isnan(c), c)).alias(c) for c in df_joined.columns]).toPandas()"
   ]
  },
  {
   "cell_type": "code",
   "execution_count": 53,
   "metadata": {
    "editable": true
   },
   "outputs": [],
   "source": [
    "output = 's3a://immigration-airport-data/immigration_airport_aggregate'\n",
    "df_joined.write.partitionBy('year', 'month').parquet(output, mode='append')"
   ]
  },
  {
   "cell_type": "markdown",
   "metadata": {
    "editable": true
   },
   "source": [
    "## Step 3: Data Model\n",
    "### Fact Table\n",
    "- `immigration_airport_aggregate`\n",
    "  - stores the number of immigrants in each port for each month of the year\n",
    "  - also shows the number of different types of airports for each location\n",
    "\n",
    "### 4 Dimension Tables\n",
    "- `airport_types`: shows the location and types of airports in each city\n",
    "- `airport_aggregate`: stores the number of types of airports in each city\n",
    "- `immigration_city_res`: stores the number of immigrants coming from a given city\n",
    "- `immigration_port`: stores the number of immigrants to each port"
   ]
  },
  {
   "cell_type": "markdown",
   "metadata": {
    "editable": true
   },
   "source": [
    "### Step 4: Run Pipelines to Model the Data \n",
    "#### 4.1 Create the data model\n",
    "Build the data pipelines to create the data model."
   ]
  },
  {
   "cell_type": "code",
   "execution_count": null,
   "metadata": {
    "editable": true
   },
   "outputs": [],
   "source": [
    "# Write code here"
   ]
  },
  {
   "cell_type": "markdown",
   "metadata": {
    "editable": true
   },
   "source": [
    "#### 4.2 Data Quality Checks\n",
    "Explain the data quality checks you'll perform to ensure the pipeline ran as expected. These could include:\n",
    " * Integrity constraints on the relational database (e.g., unique key, data type, etc.)\n",
    " * Unit tests for the scripts to ensure they are doing the right thing\n",
    " * Source/Count checks to ensure completeness\n",
    " \n",
    "Run Quality Checks"
   ]
  },
  {
   "cell_type": "code",
   "execution_count": null,
   "metadata": {
    "editable": true
   },
   "outputs": [],
   "source": [
    "# Perform quality checks here"
   ]
  },
  {
   "cell_type": "markdown",
   "metadata": {
    "editable": true
   },
   "source": [
    "## Data dictionary\n",
    "- Airport data from https://datahub.io/core/airport-codes\n",
    "- Immigration data from https://travel.trade.gov/research/reports/i94/historical/2016.html\n",
    "### airport_types\n",
    "| Field         | Type    | Contraints |\n",
    "|---------------|---------|------------|\n",
    "| continent     | varchar | PK         |\n",
    "| country       | varchar | PK         |\n",
    "| state         | varchar | PK         |\n",
    "| municipality  | varchar | PK         |\n",
    "| type          | varchar | NOT NULL   |\n",
    "| name          | varch   | NOT NULL   |\n",
    "| latitude_deg  | float   |            |\n",
    "| logitutde_deg | float   |            |\n",
    "| elevation_ft  | float   |            |\n",
    "\n",
    "### airport_aggregate\n",
    "| Field          | Type    | Contraints |\n",
    "|----------------|---------|------------|\n",
    "| country        | varchar | PK         |\n",
    "| state          | varchar | PK         |\n",
    "| municipality   | varchar | PK         |\n",
    "| ballonport     | int     |            |\n",
    "| heliport       | int     |            |\n",
    "| large_airport  | int     |            |\n",
    "| medium_airport | int     |            |\n",
    "| seaplane_base  | int     |            |\n",
    "| small_airport  | int     |            |\n",
    "\n",
    "### immigration_city_res\n",
    "| Field     | Type    | Contraints |\n",
    "|-----------|---------|------------|\n",
    "| year      | int     | PK         |\n",
    "| month     | int     | PK         |\n",
    "| i94res    | int     | PK         |\n",
    "| i94cit    | int     | PK         |\n",
    "| count     | int     | NOT NULL   |\n",
    "| city_name | varchar |            |\n",
    "| res_name  | varchar |            |\n",
    "\n",
    "### immigration_port\n",
    "| Field     | Type    | Contraints |\n",
    "|-----------|---------|------------|\n",
    "| year      | int     | PK         |\n",
    "| month     | int     | PK         |\n",
    "| i94port   | int     | PK         |\n",
    "| count     | int     | NOT NULL   |\n",
    "| port_name | varchar |            |\n",
    "\n",
    "### immigration_airport_aggregate\n",
    "| Field          | Type    | Contraints |\n",
    "|----------------|---------|------------|\n",
    "| year           | int     | PK         |\n",
    "| month          | int     | PK         |\n",
    "| i94port        | int     | PK         |\n",
    "| i94_count      | int     | NOT NULL   |\n",
    "| port_name      | varchar |            |\n",
    "| city           | varchar |            |\n",
    "| state          | varchar |            |\n",
    "| small_airport  | int     |            |\n",
    "| medium_airport | int     |            |\n",
    "| large_airport  | int     |            |\n",
    "| seaplane_base  | int     |            |\n",
    "| heliport       | int     |            |\n",
    "| balloonport    | int     |            |\n"
   ]
  },
  {
   "cell_type": "markdown",
   "metadata": {
    "editable": true
   },
   "source": [
    "## Scenarios\n",
    "\n",
    "### The data was increased by 100x\n",
    "Depending on the required time limit, additional nodes may be required and EMR should be used to process the huge amount of data in the desired time. Additional S3 buckets might be needed if data are reaching the limit.\n",
    "\n",
    "### The pipelines would be run on a daily basis by 7 am every day\n",
    "Schedule Airflow DAG to trigger the pipeline everyday at 7am.\n",
    "\n",
    "### The database needed to be accessed by 100+ people\n",
    "Create a specific IAM for people that needs to access the S3, make sure the S3 bucket is created as a normal and not glacier S3 as that would slow the speed significantly."
   ]
  },
  {
   "cell_type": "markdown",
   "metadata": {
    "editable": true
   },
   "source": [
    "#### Step 5: Complete Project Write Up\n",
    "* Clearly state the rationale for the choice of tools and technologies for the project.\n",
    "* Propose how often the data should be updated and why.\n",
    "* Write a description of how you would approach the problem differently under the following scenarios:\n",
    " * The data was increased by 100x.\n",
    " * The data populates a dashboard that must be updated on a daily basis by 7am every day.\n",
    " * The database needed to be accessed by 100+ people."
   ]
  },
  {
   "cell_type": "markdown",
   "metadata": {
    "editable": true
   },
   "source": [
    "## Data Pipeline\n",
    "How often the data should be updated?\n",
    "- The data should be updated monthly given how the the data is aggregated monthly."
   ]
  },
  {
   "cell_type": "code",
   "execution_count": null,
   "metadata": {
    "editable": true
   },
   "outputs": [],
   "source": []
  },
  {
   "cell_type": "code",
   "execution_count": null,
   "metadata": {
    "editable": true
   },
   "outputs": [],
   "source": []
  },
  {
   "cell_type": "code",
   "execution_count": null,
   "metadata": {
    "editable": true
   },
   "outputs": [],
   "source": []
  },
  {
   "cell_type": "code",
   "execution_count": null,
   "metadata": {
    "editable": true
   },
   "outputs": [],
   "source": []
  },
  {
   "cell_type": "code",
   "execution_count": null,
   "metadata": {
    "editable": true
   },
   "outputs": [],
   "source": []
  },
  {
   "cell_type": "code",
   "execution_count": null,
   "metadata": {
    "editable": true
   },
   "outputs": [],
   "source": []
  }
 ],
 "metadata": {
  "kernelspec": {
   "display_name": "Python 3",
   "language": "python",
   "name": "python3"
  },
  "language_info": {
   "codemirror_mode": {
    "name": "ipython",
    "version": 3
   },
   "file_extension": ".py",
   "mimetype": "text/x-python",
   "name": "python",
   "nbconvert_exporter": "python",
   "pygments_lexer": "ipython3",
   "version": "3.6.3"
  }
 },
 "nbformat": 4,
 "nbformat_minor": 4
}
